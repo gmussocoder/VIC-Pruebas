{
 "cells": [
  {
   "cell_type": "markdown",
   "metadata": {},
   "source": [
    "#Esto es Markdown"
   ]
  },
  {
   "cell_type": "code",
   "execution_count": 16,
   "metadata": {},
   "outputs": [
    {
     "name": "stdout",
     "output_type": "stream",
     "text": [
      "C:/Guille/VIC/Pruebas/Datasets/images\n",
      "C:/Guille/VIC/Pruebas/Datasets/annotations\n",
      "C:\\Guille\\VIC\\Pruebas\\Datasets\\annotations\\trainval.txt\n",
      "C:\\Guille\\VIC\\Pruebas\\Datasets\\annotations\\test.txt\n"
     ]
    }
   ],
   "source": [
    "import os\n",
    "\n",
    "annotations_path = \"C:/Guille/VIC/Pruebas/Datasets/annotations\"\n",
    "images_path = \"C:/Guille/VIC/Pruebas/Datasets/images\"\n",
    "## os.path.normpath('c:/folder/subfolder/file.txt')\n",
    "print(images_path)\n",
    "print(annotations_path)\n",
    "print(os.path.normpath(os.path.join(annotations_path, \"trainval.txt\")))\n",
    "print(os.path.normpath(os.path.join(annotations_path, \"test.txt\")))\n",
    "trainval = open(os.path.normpath(os.path.join(annotations_path, \"trainval.txt\"))).readlines()\n",
    "test = open(os.path.normpath(os.path.join(annotations_path, \"test.txt\"))).readlines()\n",
    "\n",
    "os.makedirs(os.path.join(images_path, \"train\", \"cats\"), exist_ok=True)\n",
    "os.makedirs(os.path.join(images_path, \"train\", \"dogs\"), exist_ok=True)\n",
    "os.makedirs(os.path.join(images_path, \"test\", \"cats\"), exist_ok=True)\n",
    "os.makedirs(os.path.join(images_path, \"test\", \"dogs\"), exist_ok=True)\n",
    "\n",
    "def classify_image(line, subset):\n",
    "    basename = line.split(\" \")[0]\n",
    "    species = line.split(\" \")[2]\n",
    "    subfolder = \"cats\" if species == \"1\" else \"dogs\"\n",
    "    oldpath = os.path.join(images_path, f\"{basename}.jpg\")\n",
    "    newpath = os.path.join(images_path, subset, subfolder, f\"{basename}.jpg\")\n",
    "    if os.path.isfile(oldpath):\n",
    "        os.rename(oldpath, newpath)\n",
    "\n",
    "for line in trainval:\n",
    "    classify_image(line, \"train\")\n",
    "\n",
    "for line in test:\n",
    "    classify_image(line, \"test\")"
   ]
  },
  {
   "cell_type": "code",
   "execution_count": null,
   "metadata": {},
   "outputs": [],
   "source": [
    "from tensorflow.keras.preprocessing.image import ImageDataGenerator\n",
    "\n",
    "generador_entrenamiento = ImageDataGenerator()\n",
    "datos_entrenamiento = generador_entrenamiento.flow_from_directory(os.path.normpath(\"C:/Guille/VIC/Pruebas/Datasets/images/train\"))\n",
    "generador_test = ImageDataGenerator()\n",
    "datos_test = generador_test.flow_from_directory(os.path.normpath(\"C:/Guille/VIC/Pruebas/Datasets/images/test\"), class_mode=None)\n",
    "algunas_imagenes = next(datos_test)"
   ]
  },
  {
   "cell_type": "code",
   "execution_count": null,
   "metadata": {},
   "outputs": [],
   "source": [
    "from matplotlib import pyplot as plt\n",
    "plt.imshow(algunas_imagenes[0]/255.)\n",
    "plt.axis('off')\n",
    "plt.show()\n",
    "plt.imshow(algunas_imagenes[1]/255.)\n",
    "plt.axis('off')\n",
    "plt.show()"
   ]
  },
  {
   "cell_type": "code",
   "execution_count": null,
   "metadata": {},
   "outputs": [],
   "source": [
    "from tensorflow.keras import applications\n",
    "inception = applications.InceptionV3(include_top=False, input_shape=(256, 256, 3))"
   ]
  },
  {
   "cell_type": "code",
   "execution_count": null,
   "metadata": {},
   "outputs": [],
   "source": [
    "from tensorflow.keras.layers import Flatten, Dense\n",
    "from tensorflow.keras.models import Sequential\n",
    "predictor = Sequential([\n",
    "    Flatten(), \n",
    "    Dense(128, activation=\"relu\"), \n",
    "    Dense(2, activation=\"softmax\")\n",
    "])\n",
    "modelo = Sequential([inception, predictor])\n",
    "modelo.compile(optimizer=\"adam\", loss=\"categorical_crossentropy\")"
   ]
  },
  {
   "cell_type": "code",
   "execution_count": null,
   "metadata": {},
   "outputs": [],
   "source": [
    "modelo.fit(datos_entrenamiento, epochs=50)"
   ]
  },
  {
   "cell_type": "code",
   "execution_count": null,
   "metadata": {},
   "outputs": [],
   "source": [
    "lote_test = next(datos_test)\n",
    "\n",
    "probs = modelo.predict(lote_test)\n",
    "import numpy as np\n",
    "clase = np.argmax(probs, -1)"
   ]
  },
  {
   "cell_type": "code",
   "execution_count": null,
   "metadata": {},
   "outputs": [],
   "source": [
    "mostrar_imagenes = 10\n",
    "\n",
    "for i in range(mostrar_imagenes):\n",
    "    plt.imshow(lote_test[i]/255.)\n",
    "    plt.axis('off')\n",
    "    plt.show()\n",
    "    print(\"Predicción:\", \"perro\" if clase[i] else \"gato\")"
   ]
  },
  {
   "cell_type": "code",
   "execution_count": 2,
   "metadata": {},
   "outputs": [
    {
     "data": {
      "text/plain": [
       "{'a': 2, 'b': 2}"
      ]
     },
     "execution_count": 2,
     "metadata": {},
     "output_type": "execute_result"
    }
   ],
   "source": [
    "x = {\"a\":2,\"b\":2}\n",
    "x"
   ]
  }
 ],
 "metadata": {
  "kernelspec": {
   "display_name": "Python 3.9.12 ('base')",
   "language": "python",
   "name": "python3"
  },
  "language_info": {
   "codemirror_mode": {
    "name": "ipython",
    "version": 3
   },
   "file_extension": ".py",
   "mimetype": "text/x-python",
   "name": "python",
   "nbconvert_exporter": "python",
   "pygments_lexer": "ipython3",
   "version": "3.9.13"
  },
  "orig_nbformat": 4,
  "vscode": {
   "interpreter": {
    "hash": "41f48157d3cdaf416d56f46084ca0428cea638760ba69c90dd6880f97fdff4d0"
   }
  }
 },
 "nbformat": 4,
 "nbformat_minor": 2
}
